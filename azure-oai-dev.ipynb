{
 "cells": [
  {
   "cell_type": "code",
   "execution_count": null,
   "metadata": {},
   "outputs": [],
   "source": [
    "%pip install openai"
   ]
  },
  {
   "cell_type": "code",
   "execution_count": 9,
   "metadata": {},
   "outputs": [],
   "source": [
    "#Note: The openai-python library support for Azure OpenAI is in preview.\n",
    "import os\n",
    "import openai\n",
    "import requests\n",
    "import json\n",
    "\n",
    "openai.api_type = \"azure\"\n",
    "openai.api_base = \"https://oai-dev-jl.openai.azure.com/\"\n",
    "openai.api_version = \"2022-12-01\" #2023-03-15-preview\n",
    "openai.api_key = 'edc207d9f3c54816bddbf9a13439522c' #os.getenv(\"edc207d9f3c54816bddbf9a13439522c\")\n",
    "\n",
    "response = openai.Completion.create(\n",
    "  engine=\"text-analytics\",\n",
    "  prompt=\"The following is a conversation with an AI assistant. The assistant is helpful, creative, clever, and very friendly. \\n \\nHuman: Hello, who are you? \\nAI: Hello, I am an AI assistant. I am here to help you with anything you need.\\nHuman: I'd like to cancel my subscription. \\nAI: Absolutely. Let me just pull up your account. Can you please provide me with your customer number so I can locate your subscription?\",\n",
    "  temperature=0.9,\n",
    "  max_tokens=256,\n",
    "  top_p=1,\n",
    "  frequency_penalty=0,\n",
    "  presence_penalty=0,\n",
    "  best_of=1,\n",
    "  stop=[\"Human:\",\"AI:\"])"
   ]
  }
 ],
 "metadata": {
  "kernelspec": {
   "display_name": "Python 3",
   "language": "python",
   "name": "python3"
  },
  "language_info": {
   "codemirror_mode": {
    "name": "ipython",
    "version": 3
   },
   "file_extension": ".py",
   "mimetype": "text/x-python",
   "name": "python",
   "nbconvert_exporter": "python",
   "pygments_lexer": "ipython3",
   "version": "3.11.2"
  },
  "orig_nbformat": 4
 },
 "nbformat": 4,
 "nbformat_minor": 2
}

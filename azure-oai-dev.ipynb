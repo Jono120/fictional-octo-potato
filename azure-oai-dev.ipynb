{
 "cells": [
  {
   "cell_type": "code",
   "execution_count": 4,
   "metadata": {},
   "outputs": [
    {
     "name": "stdout",
     "output_type": "stream",
     "text": [
      "Requirement already satisfied: openai in c:\\users\\devlap02\\appdata\\local\\programs\\python\\python311\\lib\\site-packages (0.27.2)\n",
      "Requirement already satisfied: requests>=2.20 in c:\\users\\devlap02\\appdata\\local\\programs\\python\\python311\\lib\\site-packages (from openai) (2.28.2)\n",
      "Requirement already satisfied: tqdm in c:\\users\\devlap02\\appdata\\local\\programs\\python\\python311\\lib\\site-packages (from openai) (4.65.0)\n",
      "Requirement already satisfied: aiohttp in c:\\users\\devlap02\\appdata\\local\\programs\\python\\python311\\lib\\site-packages (from openai) (3.8.4)\n",
      "Requirement already satisfied: charset-normalizer<4,>=2 in c:\\users\\devlap02\\appdata\\local\\programs\\python\\python311\\lib\\site-packages (from requests>=2.20->openai) (3.1.0)\n",
      "Requirement already satisfied: idna<4,>=2.5 in c:\\users\\devlap02\\appdata\\local\\programs\\python\\python311\\lib\\site-packages (from requests>=2.20->openai) (3.4)\n",
      "Requirement already satisfied: urllib3<1.27,>=1.21.1 in c:\\users\\devlap02\\appdata\\local\\programs\\python\\python311\\lib\\site-packages (from requests>=2.20->openai) (1.26.15)\n",
      "Requirement already satisfied: certifi>=2017.4.17 in c:\\users\\devlap02\\appdata\\local\\programs\\python\\python311\\lib\\site-packages (from requests>=2.20->openai) (2022.12.7)\n",
      "Requirement already satisfied: attrs>=17.3.0 in c:\\users\\devlap02\\appdata\\local\\programs\\python\\python311\\lib\\site-packages (from aiohttp->openai) (22.2.0)\n",
      "Requirement already satisfied: multidict<7.0,>=4.5 in c:\\users\\devlap02\\appdata\\local\\programs\\python\\python311\\lib\\site-packages (from aiohttp->openai) (6.0.4)\n",
      "Requirement already satisfied: async-timeout<5.0,>=4.0.0a3 in c:\\users\\devlap02\\appdata\\local\\programs\\python\\python311\\lib\\site-packages (from aiohttp->openai) (4.0.2)\n",
      "Requirement already satisfied: yarl<2.0,>=1.0 in c:\\users\\devlap02\\appdata\\local\\programs\\python\\python311\\lib\\site-packages (from aiohttp->openai) (1.8.2)\n",
      "Requirement already satisfied: frozenlist>=1.1.1 in c:\\users\\devlap02\\appdata\\local\\programs\\python\\python311\\lib\\site-packages (from aiohttp->openai) (1.3.3)\n",
      "Requirement already satisfied: aiosignal>=1.1.2 in c:\\users\\devlap02\\appdata\\local\\programs\\python\\python311\\lib\\site-packages (from aiohttp->openai) (1.3.1)\n",
      "Requirement already satisfied: colorama in c:\\users\\devlap02\\appdata\\roaming\\python\\python311\\site-packages (from tqdm->openai) (0.4.6)\n",
      "Note: you may need to restart the kernel to use updated packages.\n"
     ]
    },
    {
     "name": "stderr",
     "output_type": "stream",
     "text": [
      "\n",
      "[notice] A new release of pip is available: 23.0.1 -> 23.1.2\n",
      "[notice] To update, run: python.exe -m pip install --upgrade pip\n"
     ]
    },
    {
     "name": "stdout",
     "output_type": "stream",
     "text": [
      "Requirement already satisfied: pip in c:\\users\\devlap02\\appdata\\local\\programs\\python\\python311\\lib\\site-packages (23.0.1)\n",
      "Collecting pip\n",
      "  Downloading pip-23.1.2-py3-none-any.whl (2.1 MB)\n",
      "     ---------------------------------------- 0.0/2.1 MB ? eta -:--:--\n",
      "     -- ------------------------------------- 0.1/2.1 MB 2.8 MB/s eta 0:00:01\n",
      "     ------- -------------------------------- 0.4/2.1 MB 4.6 MB/s eta 0:00:01\n",
      "     ------------ --------------------------- 0.6/2.1 MB 4.5 MB/s eta 0:00:01\n",
      "     ------------------- -------------------- 1.0/2.1 MB 5.8 MB/s eta 0:00:01\n",
      "     -------------------------- ------------- 1.4/2.1 MB 6.2 MB/s eta 0:00:01\n",
      "     --------------------------------- ------ 1.7/2.1 MB 6.5 MB/s eta 0:00:01\n",
      "     ------------------------------------- -- 1.9/2.1 MB 6.5 MB/s eta 0:00:01\n",
      "     ---------------------------------------- 2.1/2.1 MB 5.7 MB/s eta 0:00:00\n",
      "Installing collected packages: pip\n",
      "  Attempting uninstall: pip\n",
      "    Found existing installation: pip 23.0.1\n",
      "    Uninstalling pip-23.0.1:\n",
      "      Successfully uninstalled pip-23.0.1\n",
      "Successfully installed pip-23.1.2\n",
      "Note: you may need to restart the kernel to use updated packages.\n"
     ]
    },
    {
     "name": "stderr",
     "output_type": "stream",
     "text": [
      "  WARNING: The scripts pip.exe, pip3.11.exe and pip3.exe are installed in 'c:\\Users\\DevLap02\\AppData\\Local\\Programs\\Python\\Python311\\Scripts' which is not on PATH.\n",
      "  Consider adding this directory to PATH or, if you prefer to suppress this warning, use --no-warn-script-location.\n"
     ]
    }
   ],
   "source": [
    "%pip install openai\n",
    "%pip install --upgrade pip"
   ]
  },
  {
   "cell_type": "code",
   "execution_count": 9,
   "metadata": {},
   "outputs": [],
   "source": [
    "#Note: The openai-python library support for Azure OpenAI is in preview.\n",
    "import os\n",
    "import openai\n",
    "import requests\n",
    "import json\n",
    "\n",
    "openai.api_type = \"azure\"\n",
    "openai.api_base = \"https://oai-dev-jl.openai.azure.com/\"\n",
    "openai.api_version = \"2022-12-01\" #2023-03-15-preview\n",
    "openai.api_key = 'edc207d9f3c54816bddbf9a13439522c' #os.getenv(\"edc207d9f3c54816bddbf9a13439522c\")\n",
    "\n",
    "response = openai.Completion.create(\n",
    "  engine=\"text-analytics\",\n",
    "  prompt=\"The following is a conversation with an AI assistant. The assistant is helpful, creative, clever, and very friendly. \\n \\nHuman: Hello, who are you? \\nAI: Hello, I am an AI assistant. I am here to help you with anything you need.\\nHuman: I'd like to cancel my subscription. \\nAI: Absolutely. Let me just pull up your account. Can you please provide me with your customer number so I can locate your subscription?\",\n",
    "  temperature=0.9,\n",
    "  max_tokens=256,\n",
    "  top_p=1,\n",
    "  frequency_penalty=0,\n",
    "  presence_penalty=0,\n",
    "  best_of=1,\n",
    "  stop=[\"Human:\",\"AI:\"])"
   ]
  }
 ],
 "metadata": {
  "kernelspec": {
   "display_name": "Python 3",
   "language": "python",
   "name": "python3"
  },
  "language_info": {
   "codemirror_mode": {
    "name": "ipython",
    "version": 3
   },
   "file_extension": ".py",
   "mimetype": "text/x-python",
   "name": "python",
   "nbconvert_exporter": "python",
   "pygments_lexer": "ipython3",
   "version": "3.11.2"
  },
  "orig_nbformat": 4
 },
 "nbformat": 4,
 "nbformat_minor": 2
}
